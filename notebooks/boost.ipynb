{
 "cells": [
  {
   "cell_type": "markdown",
   "id": "84666d63-ccaf-47aa-84af-0e4fe409e291",
   "metadata": {},
   "source": [
    "# Colour Boosting"
   ]
  },
  {
   "cell_type": "code",
   "execution_count": 1,
   "id": "be4626c7-b611-4e59-b5ac-f145685aa7f9",
   "metadata": {},
   "outputs": [],
   "source": [
    "import os\n",
    "import sys\n",
    "module_path = os.path.abspath(os.path.join('../'))\n",
    "if module_path not in sys.path:\n",
    "    sys.path.append(module_path)"
   ]
  },
  {
   "cell_type": "code",
   "execution_count": 2,
   "id": "19518e3d-99f1-4265-a07c-b24e10873699",
   "metadata": {},
   "outputs": [],
   "source": [
    "from lib.app import App\n",
    "from lib.app_widget import AppWidget"
   ]
  },
  {
   "cell_type": "code",
   "execution_count": 3,
   "id": "a3cdbeb2-1074-4c75-9d0f-3d260c1f4e28",
   "metadata": {},
   "outputs": [
    {
     "data": {
      "application/vnd.jupyter.widget-view+json": {
       "model_id": "9b38d4a32fe242429cbfeb0f8cf1c1c3",
       "version_major": 2,
       "version_minor": 0
      },
      "text/plain": [
       "Output()"
      ]
     },
     "metadata": {},
     "output_type": "display_data"
    },
    {
     "data": {
      "application/vnd.jupyter.widget-view+json": {
       "model_id": "23490c0b21ad43f3a7779e8c8bd040b9",
       "version_major": 2,
       "version_minor": 0
      },
      "text/plain": [
       "AppLayout(children=(VBox(children=(HTML(value='<h2>Colour Booster</h2>'), HBox(children=(FileUpload(value=(), …"
      ]
     },
     "metadata": {},
     "output_type": "display_data"
    }
   ],
   "source": [
    "app = AppWidget(App())\n",
    "app.display()"
   ]
  }
 ],
 "metadata": {
  "kernelspec": {
   "display_name": "Python 3 (ipykernel)",
   "language": "python",
   "name": "python3"
  },
  "language_info": {
   "codemirror_mode": {
    "name": "ipython",
    "version": 3
   },
   "file_extension": ".py",
   "mimetype": "text/x-python",
   "name": "python",
   "nbconvert_exporter": "python",
   "pygments_lexer": "ipython3",
   "version": "3.9.14"
  }
 },
 "nbformat": 4,
 "nbformat_minor": 5
}
